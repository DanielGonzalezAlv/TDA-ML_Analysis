{
 "cells": [
  {
   "cell_type": "code",
   "execution_count": 27,
   "metadata": {},
   "outputs": [
    {
     "data": {
      "text/plain": [
       "0.00014688000502234287"
      ]
     },
     "execution_count": 27,
     "metadata": {},
     "output_type": "execute_result"
    }
   ],
   "source": [
    "import math as mt\n",
    "import numpy as np\n",
    "\n",
    "\n",
    "#input: a normal list\n",
    "def alg_appr(dg_1, dg_2, m):\n",
    "    \n",
    "    sw = 0\n",
    "    theta = -mt.pi/2\n",
    "    s = mt.pi/m\n",
    "    \n",
    "    v_1 = np.array([])\n",
    "    v_2 = np.array([])\n",
    "    dp_1 = []          #projections\n",
    "    dp_2 = []\n",
    "    sli_was = 0\n",
    "    \n",
    "    \n",
    "    for p_k in dg_1:\n",
    "        dp_1 += [(p_k[0]+p_k[1])/2, (p_k[0]+p_k[1])/2]\n",
    "    for p_k in dg_2:\n",
    "        dp_2 += [(p_k[0]+p_k[1])/2, (p_k[0]+p_k[1])/2]\n",
    "    \n",
    "    dg_1 += dp_2\n",
    "    dg_2 += dp_1\n",
    "    \n",
    "    dg_1 = np.asarray(dg_1)   #want to use dot product in np\n",
    "    dg_2 = np.asarray(dg_2)\n",
    "    for i in range(m-1):\n",
    "        theta_vec = np.array([mt.cos(theta), mt.sin(theta)])\n",
    "        for p_k in dg_1:\n",
    "            v_1 = np.append(v_1, np.dot(theta_vec, p_k))\n",
    "        for p_k in dg_2:\n",
    "            v_2 = np.append(v_2, np.dot(theta_vec, p_k))\n",
    "        w_1 = np.sort(v_1)\n",
    "        w_2 = np.sort(v_2)\n",
    "        sli_was = sli_was + s*np.linalg.norm(w_1 - w_2, ord=1)\n",
    "        theta += s\n",
    "        v_1 = np.array([])\n",
    "        v_2 = np.array([])\n",
    "    return (1/mt.pi)*sli_was\n",
    "\n"
   ]
  },
  {
   "cell_type": "code",
   "execution_count": null,
   "metadata": {},
   "outputs": [],
   "source": []
  }
 ],
 "metadata": {
  "kernelspec": {
   "display_name": "Python 3",
   "language": "python",
   "name": "python3"
  },
  "language_info": {
   "codemirror_mode": {
    "name": "ipython",
    "version": 3
   },
   "file_extension": ".py",
   "mimetype": "text/x-python",
   "name": "python",
   "nbconvert_exporter": "python",
   "pygments_lexer": "ipython3",
   "version": "3.7.3"
  }
 },
 "nbformat": 4,
 "nbformat_minor": 2
}
